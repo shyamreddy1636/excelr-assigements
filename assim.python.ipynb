{
 "cells": [
  {
   "cell_type": "markdown",
   "metadata": {},
   "source": [
    "prime number or not a prime number :"
   ]
  },
  {
   "cell_type": "code",
   "execution_count": 12,
   "metadata": {},
   "outputs": [
    {
     "name": "stdout",
     "output_type": "stream",
     "text": [
      "7 it is a prime number\n"
     ]
    }
   ],
   "source": [
    "user= int(input(\"enter a number:\"))\n",
    "if n1>1:\n",
    "    for i in range(2,int(n1/2+1)):\n",
    "        if (user%i)==0:\n",
    "            print(user,\"it is not a prime number\")\n",
    "            break\n",
    "    else:\n",
    "        print(user,\"it is a prime number\")\n",
    "else:\n",
    "    print(user,\"it is not a prime number\")            "
   ]
  },
  {
   "cell_type": "markdown",
   "metadata": {},
   "source": [
    "product of random numbers :"
   ]
  },
  {
   "cell_type": "code",
   "execution_count": 11,
   "metadata": {},
   "outputs": [
    {
     "name": "stdout",
     "output_type": "stream",
     "text": [
      "it is not correct\n",
      "The two numbers are 18,78 and product is 1404\n"
     ]
    }
   ],
   "source": [
    "import random as ram\n",
    "#importing random two numbers\n",
    "user1=ram.randint(1,99)\n",
    "user2=ram.randint(1,99)\n",
    "#Taking user number\n",
    "user=int(input(\"enter a number:\"))\n",
    "#product of two numbers\n",
    "product=user1*user2\n",
    "#using if loop to know it is correct or not correct\n",
    "if user==product:\n",
    "    print('it is correct')\n",
    "else:\n",
    "    print('it is not correct')    \n",
    "\n",
    "print((\"The two numbers are {user11},{user12} and product is {pr}\").format(user11=user1,user12=user2,pr=product))"
   ]
  },
  {
   "cell_type": "markdown",
   "metadata": {},
   "source": [
    "squares of even and odd numbers :"
   ]
  },
  {
   "cell_type": "code",
   "execution_count": 13,
   "metadata": {},
   "outputs": [
    {
     "name": "stdout",
     "output_type": "stream",
     "text": [
      "it is even [100, 102, 104, 106, 108, 110, 112, 114, 116, 118, 120, 122, 124, 126, 128, 130, 132, 134, 136, 138, 140, 142, 144, 146, 148, 150, 152, 154, 156, 158, 160, 162, 164, 166, 168, 170, 172, 174, 176, 178, 180, 182, 184, 186, 188, 190, 192, 194, 196, 198, 200]\n",
      "square is: [10000, 10404, 10816, 11236, 11664, 12100, 12544, 12996, 13456, 13924, 14400, 14884, 15376, 15876, 16384, 16900, 17424, 17956, 18496, 19044, 19600, 20164, 20736, 21316, 21904, 22500, 23104, 23716, 24336, 24964, 25600, 26244, 26896, 27556, 28224, 28900, 29584, 30276, 30976, 31684, 32400, 33124, 33856, 34596, 35344, 36100, 36864, 37636, 38416, 39204, 40000]\n"
     ]
    }
   ],
   "source": [
    "even=[]\n",
    "square=[]\n",
    "for s in range(100,201):\n",
    "    if s%2==0:\n",
    "      even.append(s) \n",
    "\n",
    "print('it is even',even)\n",
    "\n",
    "for s in even:\n",
    "    square.append(s**2)\n",
    "    #square1=square**2\n",
    "\n",
    "print('square is:',square)\n"
   ]
  },
  {
   "cell_type": "markdown",
   "metadata": {},
   "source": [
    "word counter :"
   ]
  },
  {
   "cell_type": "code",
   "execution_count": 18,
   "metadata": {},
   "outputs": [
    {
     "name": "stdout",
     "output_type": "stream",
     "text": [
      "sentence is: excelr is good hub to learn new good things\n",
      "excelr : 1\n",
      "good : 2\n",
      "hub : 1\n",
      "is : 1\n",
      "learn : 1\n",
      "new : 1\n",
      "things : 1\n",
      "to : 1\n"
     ]
    }
   ],
   "source": [
    "string= input(\"enter a sentence:\")\n",
    "string1=string.split(' ')\n",
    "string2=set(string1)\n",
    "string2=list(string2)\n",
    "string2.sort()\n",
    "counter=[]\n",
    "print('sentence is:',string)  \n",
    "for i in string2:\n",
    "    counter.append(string1.count(i))\n",
    "for i in range(len(string2)):\n",
    "    print(string2[i], ':', counter[i])  \n"
   ]
  },
  {
   "cell_type": "markdown",
   "metadata": {},
   "source": [
    "cheaking for palindrome :\n"
   ]
  },
  {
   "cell_type": "code",
   "execution_count": 25,
   "metadata": {},
   "outputs": [
    {
     "name": "stdout",
     "output_type": "stream",
     "text": [
      "this is not a number\n"
     ]
    }
   ],
   "source": [
    "num=input(\"enter a number:\")\n",
    "\n",
    "try:\n",
    "    num=int(num)\n",
    "    new_num=str(num)[ : :-1]\n",
    "    \n",
    "    if new_num==str(num):\n",
    "        print(\"it is palindrome\")\n",
    "    else:\n",
    "        print(\"not a palindrome\")\n",
    "except:\n",
    "    print(\"this is not a number\")            "
   ]
  }
 ],
 "metadata": {
  "kernelspec": {
   "display_name": "Python 3",
   "language": "python",
   "name": "python3"
  },
  "language_info": {
   "codemirror_mode": {
    "name": "ipython",
    "version": 3
   },
   "file_extension": ".py",
   "mimetype": "text/x-python",
   "name": "python",
   "nbconvert_exporter": "python",
   "pygments_lexer": "ipython3",
   "version": "3.12.5"
  }
 },
 "nbformat": 4,
 "nbformat_minor": 2
}
